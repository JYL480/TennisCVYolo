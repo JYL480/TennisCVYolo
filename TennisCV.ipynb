{
 "cells": [
  {
   "cell_type": "code",
   "execution_count": 4,
   "metadata": {},
   "outputs": [],
   "source": [
    "try:\n",
    "  from ultralytics import YOLO\n",
    "except:\n",
    "  %pip install ultralytics\n",
    "  from ultralytics import YOLO"
   ]
  },
  {
   "cell_type": "code",
   "execution_count": 5,
   "metadata": {},
   "outputs": [
    {
     "name": "stdout",
     "output_type": "stream",
     "text": [
      "Creating directory data...\n",
      "Downloading video to data\\input_video.mp4...\n",
      "Download complete.\n"
     ]
    }
   ],
   "source": [
    "import requests\n",
    "from pathlib import Path\n",
    "\n",
    "# Define the URL of the raw video file on GitHub\n",
    "video_url = \"https://raw.githubusercontent.com/abdullahtarek/tennis_analysis/main/input_videos/input_video.mp4\"\n",
    "\n",
    "# Define the path to save the video\n",
    "data_path = Path(\"data/\")\n",
    "video_path = data_path / \"input_video.mp4\"\n",
    "\n",
    "# Check if the data directory exists, create it if it does not\n",
    "if not data_path.is_dir():\n",
    "    print(f\"Creating directory {data_path}...\")\n",
    "    data_path.mkdir(parents=True, exist_ok=True)\n",
    "\n",
    "# Download the video file\n",
    "print(f\"Downloading video to {video_path}...\")\n",
    "response = requests.get(video_url, stream=True)\n",
    "if response.status_code == 200:\n",
    "    with open(video_path, \"wb\") as f:\n",
    "        for chunk in response.iter_content(chunk_size=8192):\n",
    "            if chunk:\n",
    "                f.write(chunk)\n",
    "    print(\"Download complete.\")\n",
    "else:\n",
    "    print(f\"Failed to download video. Status code: {response.status_code}\")\n"
   ]
  },
  {
   "cell_type": "markdown",
   "metadata": {},
   "source": [
    "We Dont need to track the ball because there is usually 1 ball in tennis! LOL"
   ]
  },
  {
   "cell_type": "markdown",
   "metadata": {},
   "source": []
  }
 ],
 "metadata": {
  "kernelspec": {
   "display_name": "Python 3",
   "language": "python",
   "name": "python3"
  },
  "language_info": {
   "codemirror_mode": {
    "name": "ipython",
    "version": 3
   },
   "file_extension": ".py",
   "mimetype": "text/x-python",
   "name": "python",
   "nbconvert_exporter": "python",
   "pygments_lexer": "ipython3",
   "version": "3.10.6"
  }
 },
 "nbformat": 4,
 "nbformat_minor": 2
}
